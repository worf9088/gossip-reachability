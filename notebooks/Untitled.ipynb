{
 "cells": [
  {
   "cell_type": "code",
   "execution_count": 2,
   "id": "66ef5bc4-7227-4663-a061-3320308a8c7d",
   "metadata": {},
   "outputs": [
    {
     "name": "stdout",
     "output_type": "stream",
     "text": [
      "Extra keys in LNS but not CO: 1\n",
      "((0, 1, 2), (0, 1, 2, 3), (0, 1, 2, 3), (1, 2, 3))\n"
     ]
    }
   ],
   "source": [
    "from src.engine import ReachabilityEngine\n",
    "from src.canonical import canonical_key\n",
    "\n",
    "def reachable_keys(proto: str, n: int, depth: int = 10):\n",
    "    \"\"\"Return the set of canonical keys reachable by protocol `proto`\"\"\"\n",
    "    eng = ReachabilityEngine(proto)\n",
    "    res = eng.bfs(n, depth)\n",
    "    return {k for layer in res[\"layers\"].values() for k in layer}\n",
    "\n",
    "# compare CO and LNS for n = 4\n",
    "keys_co  = reachable_keys(\"CO\", 4)\n",
    "keys_lns = reachable_keys(\"LNS\", 4)\n",
    "\n",
    "extra = keys_lns - keys_co\n",
    "print(\"Extra keys in LNS but not CO:\", len(extra))\n",
    "for k in extra:\n",
    "    print(k)\n",
    "\n"
   ]
  },
  {
   "cell_type": "code",
   "execution_count": 3,
   "id": "9f6e59a0-8246-41f6-83ea-dc49e27b8383",
   "metadata": {},
   "outputs": [
    {
     "name": "stdout",
     "output_type": "stream",
     "text": [
      "ABC, ABCD, ABCD, BCD\n"
     ]
    }
   ],
   "source": [
    "def key_to_str(key):\n",
    "    return ', '.join(''.join(chr(i+65) for i in tup) for tup in key)\n",
    "\n",
    "for k in extra:\n",
    "    print(key_to_str(k))\n",
    "\n"
   ]
  },
  {
   "cell_type": "code",
   "execution_count": 4,
   "id": "f0b1ac26-3b72-4748-b5fe-9f052a90ad28",
   "metadata": {},
   "outputs": [
    {
     "name": "stderr",
     "output_type": "stream",
     "text": [
      "ANY2: 100%|████████████████████████████████████████████| 5000/5000 [00:00<00:00, 214036.60it/s]\n"
     ]
    },
    {
     "name": "stdout",
     "output_type": "stream",
     "text": [
      "2 1.0\n"
     ]
    },
    {
     "name": "stderr",
     "output_type": "stream",
     "text": [
      "ANY3: 100%|█████████████████████████████████████████████| 5000/5000 [00:00<00:00, 67073.23it/s]\n"
     ]
    },
    {
     "name": "stdout",
     "output_type": "stream",
     "text": [
      "3 3.997\n"
     ]
    },
    {
     "name": "stderr",
     "output_type": "stream",
     "text": [
      "ANY4: 100%|█████████████████████████████████████████████| 5000/5000 [00:00<00:00, 35104.95it/s]\n"
     ]
    },
    {
     "name": "stdout",
     "output_type": "stream",
     "text": [
      "4 7.619\n"
     ]
    },
    {
     "name": "stderr",
     "output_type": "stream",
     "text": [
      "ANY5: 100%|█████████████████████████████████████████████| 5000/5000 [00:00<00:00, 19701.28it/s]\n"
     ]
    },
    {
     "name": "stdout",
     "output_type": "stream",
     "text": [
      "5 11.6882\n"
     ]
    },
    {
     "name": "stderr",
     "output_type": "stream",
     "text": [
      "ANY6: 100%|█████████████████████████████████████████████| 5000/5000 [00:00<00:00, 12499.88it/s]\n"
     ]
    },
    {
     "name": "stdout",
     "output_type": "stream",
     "text": [
      "6 16.277\n"
     ]
    },
    {
     "name": "stderr",
     "output_type": "stream",
     "text": [
      "ANY7: 100%|██████████████████████████████████████████████| 5000/5000 [00:00<00:00, 8178.16it/s]\n"
     ]
    },
    {
     "name": "stdout",
     "output_type": "stream",
     "text": [
      "7 20.9222\n"
     ]
    },
    {
     "name": "stderr",
     "output_type": "stream",
     "text": [
      "ANY8: 100%|██████████████████████████████████████████████| 5000/5000 [00:00<00:00, 5807.28it/s]\n"
     ]
    },
    {
     "name": "stdout",
     "output_type": "stream",
     "text": [
      "8 25.986\n"
     ]
    },
    {
     "name": "stderr",
     "output_type": "stream",
     "text": [
      "ANY9: 100%|██████████████████████████████████████████████| 5000/5000 [00:01<00:00, 4193.09it/s]\n"
     ]
    },
    {
     "name": "stdout",
     "output_type": "stream",
     "text": [
      "9 31.2344\n"
     ]
    },
    {
     "name": "stderr",
     "output_type": "stream",
     "text": [
      "ANY10: 100%|█████████████████████████████████████████████| 5000/5000 [00:01<00:00, 3013.47it/s]"
     ]
    },
    {
     "name": "stdout",
     "output_type": "stream",
     "text": [
      "10 36.6074\n"
     ]
    },
    {
     "name": "stderr",
     "output_type": "stream",
     "text": [
      "\n"
     ]
    }
   ],
   "source": [
    "from src.metrics import expected_length\n",
    "for n in range(2, 11):\n",
    "    print(n, expected_length(\"ANY\", n, runs=5000))\n"
   ]
  },
  {
   "cell_type": "code",
   "execution_count": 11,
   "id": "3887bfc6-49dc-4131-bd03-068a1da3a9d7",
   "metadata": {},
   "outputs": [
    {
     "name": "stderr",
     "output_type": "stream",
     "text": [
      "ANY2: 100%|████████████████████████████████████████████| 2000/2000 [00:00<00:00, 228609.80it/s]\n",
      "ANY3: 100%|█████████████████████████████████████████████| 2000/2000 [00:00<00:00, 68473.40it/s]\n",
      "ANY4: 100%|█████████████████████████████████████████████| 2000/2000 [00:00<00:00, 36081.74it/s]\n",
      "ANY5: 100%|█████████████████████████████████████████████| 2000/2000 [00:00<00:00, 19806.92it/s]\n",
      "ANY6: 100%|█████████████████████████████████████████████| 2000/2000 [00:00<00:00, 12359.07it/s]\n",
      "ANY7: 100%|██████████████████████████████████████████████| 2000/2000 [00:00<00:00, 8230.21it/s]\n",
      "ANY8: 100%|██████████████████████████████████████████████| 2000/2000 [00:00<00:00, 5733.32it/s]\n",
      "ANY9: 100%|██████████████████████████████████████████████| 2000/2000 [00:00<00:00, 4120.49it/s]\n",
      "ANY10: 100%|█████████████████████████████████████████████| 2000/2000 [00:00<00:00, 2892.74it/s]\n"
     ]
    },
    {
     "data": {
      "image/png": "[encoded data removed]",
      "text/plain": [
       "<Figure size 640x480 with 1 Axes>"
      ]
     },
     "metadata": {},
     "output_type": "display_data"
    }
   ],
   "source": [
    "import matplotlib.pyplot as plt\n",
    "ns = list(range(2, 11))\n",
    "plt.plot(ns, [expected_length(\"ANY\", n, 2000) for n in ns], label=\"ANY\")\n",
    "plt.xlabel(\"Agents (n)\"); plt.ylabel(\"Expected calls\")\n",
    "plt.legend(); plt.show()\n"
   ]
  },
  {
   "cell_type": "code",
   "execution_count": 15,
   "id": "74eff62f-07b1-4fb3-a99e-9b04e2efeab7",
   "metadata": {},
   "outputs": [
    {
     "ename": "SyntaxError",
     "evalue": "invalid syntax (3345871854.py, line 1)",
     "output_type": "error",
     "traceback": [
      "  \u001b[36mCell\u001b[39m\u001b[36m \u001b[39m\u001b[32mIn[15]\u001b[39m\u001b[32m, line 1\u001b[39m\n\u001b[31m    \u001b[39m\u001b[31mpython for proto in [\\\"TOK\\\",\\\"SPI\\\",\\\"CO\\\",\\\"LNS\\\"]:\\n plt.plot(ns, [expected_length(proto, n, 2000) for n in ns], label=proto)\u001b[39m\n           ^\n\u001b[31mSyntaxError\u001b[39m\u001b[31m:\u001b[39m invalid syntax\n"
     ]
    }
   ],
   "source": [
    "python for proto in [\\\"TOK\\\",\\\"SPI\\\",\\\"CO\\\",\\\"LNS\\\"]:\\n plt.plot(ns, [expected_length(proto, n, 2000) for n in ns], label=proto)"
   ]
  },
  {
   "cell_type": "code",
   "execution_count": null,
   "id": "f0b656fc-b70b-4fca-a1bf-226c77e858f5",
   "metadata": {},
   "outputs": [],
   "source": []
  },
  {
   "cell_type": "code",
   "execution_count": null,
   "id": "9a6d4f5d-3826-4e3f-ad6b-48061eb2f252",
   "metadata": {},
   "outputs": [],
   "source": []
  }
 ],
 "metadata": {
  "kernelspec": {
   "display_name": "Python 3 (ipykernel)",
   "language": "python",
   "name": "python3"
  },
  "language_info": {
   "codemirror_mode": {
    "name": "ipython",
    "version": 3
   },
   "file_extension": ".py",
   "mimetype": "text/x-python",
   "name": "python",
   "nbconvert_exporter": "python",
   "pygments_lexer": "ipython3",
   "version": "3.13.5"
  }
 },
 "nbformat": 4,
 "nbformat_minor": 5
}
